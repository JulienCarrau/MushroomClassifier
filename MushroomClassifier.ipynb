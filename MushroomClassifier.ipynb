{
 "cells": [
  {
   "cell_type": "code",
   "execution_count": 1,
   "metadata": {},
   "outputs": [],
   "source": [
    "import pandas as pd\n",
    "import numpy as np\n",
    "from sklearn.model_selection import train_test_split\n",
    "pd.set_option('display.max_columns', None)"
   ]
  },
  {
   "cell_type": "code",
   "execution_count": 2,
   "metadata": {},
   "outputs": [],
   "source": [
    "### Load CSV ###\n",
    "\n",
    "df = pd.read_csv(\"mushrooms.csv\")\n",
    "df = df.drop('veil-type', axis=1) # They are all the same according df.describe()"
   ]
  },
  {
   "cell_type": "code",
   "execution_count": 3,
   "metadata": {},
   "outputs": [],
   "source": [
    "### Prepare Data ###\n",
    "\n",
    "dfCategorical = pd.get_dummies(df)\n",
    "\n",
    "# We need n-1 (where n = categories number) columns to guess a category, because if there are zeros in every columns\n",
    "# the last one in obviously one, and if there is a one elsewhere, the last column could only be zero.\n",
    "# Moreover, data redundancy can be bad for some models.\n",
    "\n",
    "# Drop useless columns\n",
    "dfCategorical = dfCategorical.drop(['class_p', 'cap-shape_b', 'cap-surface_f', 'cap-color_n', 'bruises_t', 'odor_a', 'gill-attachment_a', 'gill-spacing_c', 'gill-size_b', 'gill-color_k', 'stalk-shape_e', 'stalk-root_b', 'stalk-surface-above-ring_f', 'stalk-surface-below-ring_f', 'stalk-color-above-ring_n', 'stalk-color-below-ring_n', 'veil-color_n', 'ring-number_n', 'ring-type_e', 'spore-print-color_k', 'population_a', 'habitat_g'], axis=1)\n",
    "\n",
    "y = dfCategorical['class_e']\n",
    "X = dfCategorical.drop('class_e', axis=1)\n",
    "\n",
    "X_train, X_test, y_train, y_test = train_test_split(X, y, test_size=0.3, random_state=42)"
   ]
  },
  {
   "cell_type": "code",
   "execution_count": 4,
   "metadata": {},
   "outputs": [
    {
     "name": "stdout",
     "output_type": "stream",
     "text": [
      "CPU times: user 52.5 ms, sys: 1.28 ms, total: 53.7 ms\n",
      "Wall time: 54.2 ms\n"
     ]
    }
   ],
   "source": [
    "### Model ###\n",
    "\n",
    "from sklearn.neighbors import KNeighborsClassifier\n",
    "\n",
    "model = KNeighborsClassifier(n_neighbors=2)\n",
    "\n",
    "%time model.fit(X_train, y_train) # Fit model to data\n",
    "\n",
    "y_pred = model.predict(X_test) # Predict unseen data"
   ]
  },
  {
   "cell_type": "code",
   "execution_count": 5,
   "metadata": {},
   "outputs": [
    {
     "name": "stdout",
     "output_type": "stream",
     "text": [
      "[[1181    0]\n",
      " [   0 1257]]\n",
      "              precision    recall  f1-score   support\n",
      "\n",
      "           0       1.00      1.00      1.00      1181\n",
      "           1       1.00      1.00      1.00      1257\n",
      "\n",
      "    accuracy                           1.00      2438\n",
      "   macro avg       1.00      1.00      1.00      2438\n",
      "weighted avg       1.00      1.00      1.00      2438\n",
      "\n",
      "[1. 1. 1. 1. 1.]\n"
     ]
    }
   ],
   "source": [
    "### Metrics ###\n",
    "\n",
    "from sklearn.metrics import confusion_matrix\n",
    "from sklearn.metrics import classification_report\n",
    "from sklearn.model_selection import cross_val_score\n",
    "\n",
    "print(confusion_matrix(y_test, y_pred))\n",
    "print(classification_report(y_test, y_pred))\n",
    "print(cross_val_score(model, X_train, y_train, cv=5))"
   ]
  },
  {
   "cell_type": "code",
   "execution_count": null,
   "metadata": {},
   "outputs": [],
   "source": []
  }
 ],
 "metadata": {
  "kernelspec": {
   "display_name": "Python 3",
   "language": "python",
   "name": "python3"
  },
  "language_info": {
   "codemirror_mode": {
    "name": "ipython",
    "version": 3
   },
   "file_extension": ".py",
   "mimetype": "text/x-python",
   "name": "python",
   "nbconvert_exporter": "python",
   "pygments_lexer": "ipython3",
   "version": "3.7.3"
  }
 },
 "nbformat": 4,
 "nbformat_minor": 4
}
